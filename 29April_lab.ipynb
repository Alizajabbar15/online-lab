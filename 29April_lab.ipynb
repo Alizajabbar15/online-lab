{
 "cells": [
  {
   "cell_type": "markdown",
   "id": "ec516127",
   "metadata": {},
   "source": [
    "### Example 1:\n",
    "\n",
    "From the data in the following table, find the value of $P(50)$ by using the Lagrange interpolation\n",
    "\n",
    "**x** | **y**<br>0 | 26<br>20 | 48.6<br>40 | 61.6<br>60 | 71.2<br>80 | 74.8<br>100 | 75.2  \n",
    "   \n",
    "\n",
    "### Algorithm \n",
    "\n",
    "$p(x) = \\sum_{i=0}^n{p_i(x)}{y_i}$ \n",
    "\n",
    "$p_i(x) = \\prod_{j=0,j\\neq i} \\frac{(x-x_i)}{(x_i-x_j)}$\n",
    "\n",
    "The algorithm of the lagrange interpolation \n",
    "\n",
    "$p(x) = \\sum_{i=0}^n \\left( \\prod_{j=0,j\\neq i} \\frac{(x-x_i)}{(x_i-x_j)}\\right) $"
   ]
  },
  {
   "cell_type": "markdown",
   "id": "01391cef",
   "metadata": {},
   "source": [
    "### Mehtod 1"
   ]
  },
  {
   "cell_type": "code",
   "execution_count": 13,
   "id": "ab9db55f",
   "metadata": {},
   "outputs": [
    {
     "name": "stdout",
     "output_type": "stream",
     "text": [
      "Enter the value of x:35\n",
      "for x= 35.00, y=58.651343\n"
     ]
    }
   ],
   "source": [
    "x = [0, 20, 40, 60 ,80, 100]\n",
    "y = [26, 48.6, 61.6, 71.2, 74.8, 75.2]\n",
    "\n",
    "m = len(x)\n",
    "n = m - 1\n",
    "\n",
    "xp = float(input(\"Enter the value of x:\"))\n",
    "yp = 0\n",
    "for i in range(n+1):\n",
    "    p = 1\n",
    "    for j in range(n+1):\n",
    "        if j != i:\n",
    "            p *= (xp - x[j])/(x[i] - x[j])\n",
    "    yp +=y[i]*p\n",
    "    \n",
    "print('for x= %.2f, y=%f'%(xp,yp))\n",
    "        \n",
    "    "
   ]
  },
  {
   "cell_type": "markdown",
   "id": "bc316454",
   "metadata": {},
   "source": [
    "# Method 2 "
   ]
  },
  {
   "cell_type": "code",
   "execution_count": 18,
   "id": "f1616efc",
   "metadata": {},
   "outputs": [
    {
     "name": "stdout",
     "output_type": "stream",
     "text": [
      "Enter the value of x:50\n",
      "for x= 50.00, y=66.947656\n"
     ]
    }
   ],
   "source": [
    "import numpy as np\n",
    "\n",
    "x = np.array([0,20,40,60,80,100],float)\n",
    "y = np.array([26, 48.6, 61.6, 71.2, 74.8, 75.2],float)\n",
    "\n",
    "xp = float(input('Enter the value of x:'))\n",
    "yp = 0\n",
    "\n",
    "for xi,yi in zip(x,y):\n",
    "    yp += yi * np.prod((xp - x[x !=xi])/(xi - x[x !=xi]))\n",
    "\n",
    "print('for x= %.2f, y=%f'%(xp,yp))"
   ]
  },
  {
   "cell_type": "code",
   "execution_count": 22,
   "id": "88da99f7",
   "metadata": {},
   "outputs": [
    {
     "name": "stdout",
     "output_type": "stream",
     "text": [
      "enter the value of x:50\n",
      "for x= 50.00, y=66.947656\n"
     ]
    }
   ],
   "source": [
    "import numpy as np\n",
    "\n",
    "x = np.array([0,20,40,60,80,100],float)\n",
    "y = np.array([26.0, 48.6, 61.6,71.2,74.8,75.2],float)\n",
    "\n",
    "xp= float(input(\"enter the value of x:\"))\n",
    "yp=0\n",
    "\n",
    "for xi,yi in zip(x,y):\n",
    "    yp += yi * np.prod((xp - x[x !=xi])/(xi - x[x !=xi]))\n",
    "    \n",
    "print('for x= %.2f, y=%f'%(xp,yp))"
   ]
  },
  {
   "cell_type": "markdown",
   "id": "2085b5a1",
   "metadata": {},
   "source": [
    "Assignment #2 "
   ]
  },
  {
   "cell_type": "code",
   "execution_count": null,
   "id": "95e11603",
   "metadata": {},
   "outputs": [],
   "source": []
  }
 ],
 "metadata": {
  "kernelspec": {
   "display_name": "Python 3 (ipykernel)",
   "language": "python",
   "name": "python3"
  },
  "language_info": {
   "codemirror_mode": {
    "name": "ipython",
    "version": 3
   },
   "file_extension": ".py",
   "mimetype": "text/x-python",
   "name": "python",
   "nbconvert_exporter": "python",
   "pygments_lexer": "ipython3",
   "version": "3.9.7"
  }
 },
 "nbformat": 4,
 "nbformat_minor": 5
}
